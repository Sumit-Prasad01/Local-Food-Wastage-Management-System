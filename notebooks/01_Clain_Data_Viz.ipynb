{
 "cells": [
  {
   "cell_type": "markdown",
   "id": "427c1b66",
   "metadata": {},
   "source": [
    "## Claim Data Vizualization & Cleaning"
   ]
  },
  {
   "cell_type": "code",
   "execution_count": 1,
   "id": "c5cc11d3",
   "metadata": {},
   "outputs": [],
   "source": [
    "import pandas as pd\n",
    "import numpy as np\n",
    "import matplotlib.pyplot as plt\n",
    "import seaborn as sns"
   ]
  },
  {
   "cell_type": "markdown",
   "id": "21cff932",
   "metadata": {},
   "source": [
    "## Load Dataset"
   ]
  },
  {
   "cell_type": "code",
   "execution_count": 2,
   "id": "0fd27450",
   "metadata": {},
   "outputs": [],
   "source": [
    "df = pd.read_csv('../data/claims_data.csv')"
   ]
  },
  {
   "cell_type": "code",
   "execution_count": 10,
   "id": "ce44e07f",
   "metadata": {},
   "outputs": [
    {
     "data": {
      "text/plain": [
       "(1000, 5)"
      ]
     },
     "execution_count": 10,
     "metadata": {},
     "output_type": "execute_result"
    }
   ],
   "source": [
    "df.shape"
   ]
  },
  {
   "cell_type": "markdown",
   "id": "39b33bb9",
   "metadata": {},
   "source": [
    "## Dataset Firstlook"
   ]
  },
  {
   "cell_type": "code",
   "execution_count": 11,
   "id": "d428b402",
   "metadata": {},
   "outputs": [
    {
     "data": {
      "text/html": [
       "<div>\n",
       "<style scoped>\n",
       "    .dataframe tbody tr th:only-of-type {\n",
       "        vertical-align: middle;\n",
       "    }\n",
       "\n",
       "    .dataframe tbody tr th {\n",
       "        vertical-align: top;\n",
       "    }\n",
       "\n",
       "    .dataframe thead th {\n",
       "        text-align: right;\n",
       "    }\n",
       "</style>\n",
       "<table border=\"1\" class=\"dataframe\">\n",
       "  <thead>\n",
       "    <tr style=\"text-align: right;\">\n",
       "      <th></th>\n",
       "      <th>Claim_ID</th>\n",
       "      <th>Food_ID</th>\n",
       "      <th>Receiver_ID</th>\n",
       "      <th>Status</th>\n",
       "      <th>Timestamp</th>\n",
       "    </tr>\n",
       "  </thead>\n",
       "  <tbody>\n",
       "    <tr>\n",
       "      <th>0</th>\n",
       "      <td>1</td>\n",
       "      <td>164</td>\n",
       "      <td>908</td>\n",
       "      <td>Pending</td>\n",
       "      <td>3/5/2025 5:26</td>\n",
       "    </tr>\n",
       "    <tr>\n",
       "      <th>1</th>\n",
       "      <td>2</td>\n",
       "      <td>353</td>\n",
       "      <td>391</td>\n",
       "      <td>Cancelled</td>\n",
       "      <td>3/11/2025 10:24</td>\n",
       "    </tr>\n",
       "    <tr>\n",
       "      <th>2</th>\n",
       "      <td>3</td>\n",
       "      <td>626</td>\n",
       "      <td>492</td>\n",
       "      <td>Completed</td>\n",
       "      <td>3/21/2025 0:59</td>\n",
       "    </tr>\n",
       "    <tr>\n",
       "      <th>3</th>\n",
       "      <td>4</td>\n",
       "      <td>61</td>\n",
       "      <td>933</td>\n",
       "      <td>Cancelled</td>\n",
       "      <td>3/4/2025 9:08</td>\n",
       "    </tr>\n",
       "    <tr>\n",
       "      <th>4</th>\n",
       "      <td>5</td>\n",
       "      <td>345</td>\n",
       "      <td>229</td>\n",
       "      <td>Pending</td>\n",
       "      <td>3/14/2025 15:17</td>\n",
       "    </tr>\n",
       "  </tbody>\n",
       "</table>\n",
       "</div>"
      ],
      "text/plain": [
       "   Claim_ID  Food_ID  Receiver_ID     Status        Timestamp\n",
       "0         1      164          908    Pending    3/5/2025 5:26\n",
       "1         2      353          391  Cancelled  3/11/2025 10:24\n",
       "2         3      626          492  Completed   3/21/2025 0:59\n",
       "3         4       61          933  Cancelled    3/4/2025 9:08\n",
       "4         5      345          229    Pending  3/14/2025 15:17"
      ]
     },
     "execution_count": 11,
     "metadata": {},
     "output_type": "execute_result"
    }
   ],
   "source": [
    "df.head()"
   ]
  },
  {
   "cell_type": "markdown",
   "id": "9f01ddfa",
   "metadata": {},
   "source": [
    "## Check For Null/Missing Values"
   ]
  },
  {
   "cell_type": "code",
   "execution_count": 12,
   "id": "983378b9",
   "metadata": {},
   "outputs": [
    {
     "data": {
      "text/plain": [
       "Claim_ID       0\n",
       "Food_ID        0\n",
       "Receiver_ID    0\n",
       "Status         0\n",
       "Timestamp      0\n",
       "dtype: int64"
      ]
     },
     "execution_count": 12,
     "metadata": {},
     "output_type": "execute_result"
    }
   ],
   "source": [
    "df.isna().sum()"
   ]
  },
  {
   "cell_type": "markdown",
   "id": "b62521f0",
   "metadata": {},
   "source": [
    "## Dataset Information"
   ]
  },
  {
   "cell_type": "code",
   "execution_count": 13,
   "id": "962cbc16",
   "metadata": {},
   "outputs": [
    {
     "name": "stdout",
     "output_type": "stream",
     "text": [
      "<class 'pandas.core.frame.DataFrame'>\n",
      "RangeIndex: 1000 entries, 0 to 999\n",
      "Data columns (total 5 columns):\n",
      " #   Column       Non-Null Count  Dtype \n",
      "---  ------       --------------  ----- \n",
      " 0   Claim_ID     1000 non-null   int64 \n",
      " 1   Food_ID      1000 non-null   int64 \n",
      " 2   Receiver_ID  1000 non-null   int64 \n",
      " 3   Status       1000 non-null   object\n",
      " 4   Timestamp    1000 non-null   object\n",
      "dtypes: int64(3), object(2)\n",
      "memory usage: 39.2+ KB\n"
     ]
    }
   ],
   "source": [
    "df.info()"
   ]
  },
  {
   "cell_type": "markdown",
   "id": "cda0d62d",
   "metadata": {},
   "source": [
    "## Describe Dataset"
   ]
  },
  {
   "cell_type": "code",
   "execution_count": 14,
   "id": "c2b47041",
   "metadata": {},
   "outputs": [
    {
     "data": {
      "text/html": [
       "<div>\n",
       "<style scoped>\n",
       "    .dataframe tbody tr th:only-of-type {\n",
       "        vertical-align: middle;\n",
       "    }\n",
       "\n",
       "    .dataframe tbody tr th {\n",
       "        vertical-align: top;\n",
       "    }\n",
       "\n",
       "    .dataframe thead th {\n",
       "        text-align: right;\n",
       "    }\n",
       "</style>\n",
       "<table border=\"1\" class=\"dataframe\">\n",
       "  <thead>\n",
       "    <tr style=\"text-align: right;\">\n",
       "      <th></th>\n",
       "      <th>Claim_ID</th>\n",
       "      <th>Food_ID</th>\n",
       "      <th>Receiver_ID</th>\n",
       "    </tr>\n",
       "  </thead>\n",
       "  <tbody>\n",
       "    <tr>\n",
       "      <th>count</th>\n",
       "      <td>1000.000000</td>\n",
       "      <td>1000.000000</td>\n",
       "      <td>1000.000000</td>\n",
       "    </tr>\n",
       "    <tr>\n",
       "      <th>mean</th>\n",
       "      <td>500.500000</td>\n",
       "      <td>502.163000</td>\n",
       "      <td>492.437000</td>\n",
       "    </tr>\n",
       "    <tr>\n",
       "      <th>std</th>\n",
       "      <td>288.819436</td>\n",
       "      <td>292.462255</td>\n",
       "      <td>284.487869</td>\n",
       "    </tr>\n",
       "    <tr>\n",
       "      <th>min</th>\n",
       "      <td>1.000000</td>\n",
       "      <td>1.000000</td>\n",
       "      <td>1.000000</td>\n",
       "    </tr>\n",
       "    <tr>\n",
       "      <th>25%</th>\n",
       "      <td>250.750000</td>\n",
       "      <td>233.750000</td>\n",
       "      <td>256.000000</td>\n",
       "    </tr>\n",
       "    <tr>\n",
       "      <th>50%</th>\n",
       "      <td>500.500000</td>\n",
       "      <td>504.500000</td>\n",
       "      <td>480.500000</td>\n",
       "    </tr>\n",
       "    <tr>\n",
       "      <th>75%</th>\n",
       "      <td>750.250000</td>\n",
       "      <td>762.000000</td>\n",
       "      <td>742.250000</td>\n",
       "    </tr>\n",
       "    <tr>\n",
       "      <th>max</th>\n",
       "      <td>1000.000000</td>\n",
       "      <td>999.000000</td>\n",
       "      <td>1000.000000</td>\n",
       "    </tr>\n",
       "  </tbody>\n",
       "</table>\n",
       "</div>"
      ],
      "text/plain": [
       "          Claim_ID      Food_ID  Receiver_ID\n",
       "count  1000.000000  1000.000000  1000.000000\n",
       "mean    500.500000   502.163000   492.437000\n",
       "std     288.819436   292.462255   284.487869\n",
       "min       1.000000     1.000000     1.000000\n",
       "25%     250.750000   233.750000   256.000000\n",
       "50%     500.500000   504.500000   480.500000\n",
       "75%     750.250000   762.000000   742.250000\n",
       "max    1000.000000   999.000000  1000.000000"
      ]
     },
     "execution_count": 14,
     "metadata": {},
     "output_type": "execute_result"
    }
   ],
   "source": [
    "df.describe()"
   ]
  },
  {
   "cell_type": "markdown",
   "id": "8c8a20b7",
   "metadata": {},
   "source": [
    "## Check For Duplicate Values"
   ]
  },
  {
   "cell_type": "code",
   "execution_count": 15,
   "id": "decbbc72",
   "metadata": {},
   "outputs": [
    {
     "data": {
      "text/plain": [
       "np.int64(0)"
      ]
     },
     "execution_count": 15,
     "metadata": {},
     "output_type": "execute_result"
    }
   ],
   "source": [
    "df.duplicated().sum()"
   ]
  },
  {
   "cell_type": "markdown",
   "id": "f0ef53a4",
   "metadata": {},
   "source": [
    "## Strip spaces from columns names"
   ]
  },
  {
   "cell_type": "code",
   "execution_count": 16,
   "id": "f23631dc",
   "metadata": {},
   "outputs": [],
   "source": [
    "df.columns = df.columns.str.strip()"
   ]
  },
  {
   "cell_type": "markdown",
   "id": "c73a0f08",
   "metadata": {},
   "source": [
    "## Ensure IDs are integers"
   ]
  },
  {
   "cell_type": "code",
   "execution_count": 17,
   "id": "279c5d6e",
   "metadata": {},
   "outputs": [],
   "source": [
    "df[['Claim_ID', 'Food_ID', 'Receiver_ID']] = df[['Claim_ID', 'Food_ID', 'Receiver_ID']].astype(int)"
   ]
  },
  {
   "cell_type": "markdown",
   "id": "e59c0354",
   "metadata": {},
   "source": [
    "## Claim Status distribution"
   ]
  },
  {
   "cell_type": "code",
   "execution_count": 18,
   "id": "9e764751",
   "metadata": {},
   "outputs": [],
   "source": [
    "status_counts = df['Status'].value_counts()"
   ]
  }
 ],
 "metadata": {
  "kernelspec": {
   "display_name": "Python 3",
   "language": "python",
   "name": "python3"
  },
  "language_info": {
   "codemirror_mode": {
    "name": "ipython",
    "version": 3
   },
   "file_extension": ".py",
   "mimetype": "text/x-python",
   "name": "python",
   "nbconvert_exporter": "python",
   "pygments_lexer": "ipython3",
   "version": "3.12.11"
  }
 },
 "nbformat": 4,
 "nbformat_minor": 5
}
