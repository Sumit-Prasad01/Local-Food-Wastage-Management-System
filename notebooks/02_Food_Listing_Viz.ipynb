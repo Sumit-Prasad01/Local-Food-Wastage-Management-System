{
 "cells": [
  {
   "cell_type": "markdown",
   "id": "93d27cd0",
   "metadata": {},
   "source": [
    "## Data Cleaning & Visualization for Food Listing Data"
   ]
  },
  {
   "cell_type": "code",
   "execution_count": 1,
   "id": "df1d862b",
   "metadata": {},
   "outputs": [],
   "source": [
    "import numpy as np\n",
    "import pandas as pd\n",
    "import matplotlib.pyplot as plt\n",
    "import seaborn as sns"
   ]
  },
  {
   "cell_type": "code",
   "execution_count": 3,
   "id": "340f2972",
   "metadata": {},
   "outputs": [],
   "source": [
    "df = pd.read_csv(\"../data/raw/food_listings_data.csv\")"
   ]
  },
  {
   "cell_type": "markdown",
   "id": "bd8b8d09",
   "metadata": {},
   "source": [
    "## Dataset First Look"
   ]
  },
  {
   "cell_type": "code",
   "execution_count": 5,
   "id": "993ae874",
   "metadata": {},
   "outputs": [
    {
     "data": {
      "text/html": [
       "<div>\n",
       "<style scoped>\n",
       "    .dataframe tbody tr th:only-of-type {\n",
       "        vertical-align: middle;\n",
       "    }\n",
       "\n",
       "    .dataframe tbody tr th {\n",
       "        vertical-align: top;\n",
       "    }\n",
       "\n",
       "    .dataframe thead th {\n",
       "        text-align: right;\n",
       "    }\n",
       "</style>\n",
       "<table border=\"1\" class=\"dataframe\">\n",
       "  <thead>\n",
       "    <tr style=\"text-align: right;\">\n",
       "      <th></th>\n",
       "      <th>Food_ID</th>\n",
       "      <th>Food_Name</th>\n",
       "      <th>Quantity</th>\n",
       "      <th>Expiry_Date</th>\n",
       "      <th>Provider_ID</th>\n",
       "      <th>Provider_Type</th>\n",
       "      <th>Location</th>\n",
       "      <th>Food_Type</th>\n",
       "      <th>Meal_Type</th>\n",
       "    </tr>\n",
       "  </thead>\n",
       "  <tbody>\n",
       "    <tr>\n",
       "      <th>0</th>\n",
       "      <td>1</td>\n",
       "      <td>Bread</td>\n",
       "      <td>43</td>\n",
       "      <td>3/17/2025</td>\n",
       "      <td>110</td>\n",
       "      <td>Grocery Store</td>\n",
       "      <td>South Kellyville</td>\n",
       "      <td>Non-Vegetarian</td>\n",
       "      <td>Breakfast</td>\n",
       "    </tr>\n",
       "    <tr>\n",
       "      <th>1</th>\n",
       "      <td>2</td>\n",
       "      <td>Soup</td>\n",
       "      <td>22</td>\n",
       "      <td>3/24/2025</td>\n",
       "      <td>791</td>\n",
       "      <td>Grocery Store</td>\n",
       "      <td>West James</td>\n",
       "      <td>Non-Vegetarian</td>\n",
       "      <td>Dinner</td>\n",
       "    </tr>\n",
       "    <tr>\n",
       "      <th>2</th>\n",
       "      <td>3</td>\n",
       "      <td>Fruits</td>\n",
       "      <td>46</td>\n",
       "      <td>3/28/2025</td>\n",
       "      <td>478</td>\n",
       "      <td>Catering Service</td>\n",
       "      <td>Lake Regina</td>\n",
       "      <td>Vegan</td>\n",
       "      <td>Breakfast</td>\n",
       "    </tr>\n",
       "    <tr>\n",
       "      <th>3</th>\n",
       "      <td>4</td>\n",
       "      <td>Fruits</td>\n",
       "      <td>15</td>\n",
       "      <td>3/16/2025</td>\n",
       "      <td>930</td>\n",
       "      <td>Restaurant</td>\n",
       "      <td>Kellytown</td>\n",
       "      <td>Vegan</td>\n",
       "      <td>Lunch</td>\n",
       "    </tr>\n",
       "    <tr>\n",
       "      <th>4</th>\n",
       "      <td>5</td>\n",
       "      <td>Soup</td>\n",
       "      <td>14</td>\n",
       "      <td>3/19/2025</td>\n",
       "      <td>279</td>\n",
       "      <td>Restaurant</td>\n",
       "      <td>Garciaport</td>\n",
       "      <td>Vegan</td>\n",
       "      <td>Dinner</td>\n",
       "    </tr>\n",
       "  </tbody>\n",
       "</table>\n",
       "</div>"
      ],
      "text/plain": [
       "   Food_ID Food_Name  Quantity Expiry_Date  Provider_ID     Provider_Type  \\\n",
       "0        1     Bread        43   3/17/2025          110     Grocery Store   \n",
       "1        2      Soup        22   3/24/2025          791     Grocery Store   \n",
       "2        3    Fruits        46   3/28/2025          478  Catering Service   \n",
       "3        4    Fruits        15   3/16/2025          930        Restaurant   \n",
       "4        5      Soup        14   3/19/2025          279        Restaurant   \n",
       "\n",
       "           Location       Food_Type  Meal_Type  \n",
       "0  South Kellyville  Non-Vegetarian  Breakfast  \n",
       "1        West James  Non-Vegetarian     Dinner  \n",
       "2       Lake Regina           Vegan  Breakfast  \n",
       "3         Kellytown           Vegan      Lunch  \n",
       "4        Garciaport           Vegan     Dinner  "
      ]
     },
     "execution_count": 5,
     "metadata": {},
     "output_type": "execute_result"
    }
   ],
   "source": [
    "df.head()"
   ]
  },
  {
   "cell_type": "markdown",
   "id": "11c76203",
   "metadata": {},
   "source": [
    "## Remove any extra spaces"
   ]
  },
  {
   "cell_type": "code",
   "execution_count": 7,
   "id": "c1632bf3",
   "metadata": {},
   "outputs": [],
   "source": [
    "df.columns = df.columns.str.strip()"
   ]
  },
  {
   "cell_type": "markdown",
   "id": "eabc04a4",
   "metadata": {},
   "source": [
    "## Strip spaces in string columns"
   ]
  },
  {
   "cell_type": "code",
   "execution_count": 8,
   "id": "a2d7c812",
   "metadata": {},
   "outputs": [],
   "source": [
    "str_cols = df.select_dtypes(include='object').columns\n",
    "df[str_cols] = df[str_cols].apply(lambda col: col.str.strip())"
   ]
  },
  {
   "cell_type": "markdown",
   "id": "5fb9240b",
   "metadata": {},
   "source": [
    "## Standardize categorical values"
   ]
  },
  {
   "cell_type": "code",
   "execution_count": 9,
   "id": "ae4ec941",
   "metadata": {},
   "outputs": [],
   "source": [
    "df['Provider_Type'] = df['Provider_Type'].str.title()       \n",
    "df['Location'] = df['Location'].str.title()\n",
    "df['Food_Type'] = df['Food_Type'].str.capitalize()          \n",
    "df['Meal_Type'] = df['Meal_Type'].str.capitalize()"
   ]
  },
  {
   "cell_type": "markdown",
   "id": "ababb0e2",
   "metadata": {},
   "source": [
    "## Parse Expiry_Date to datetime"
   ]
  },
  {
   "cell_type": "code",
   "execution_count": 10,
   "id": "ba1d2fc0",
   "metadata": {},
   "outputs": [],
   "source": [
    "df['Expiry_Date'] = pd.to_datetime(df['Expiry_Date'], errors='coerce', dayfirst=False)"
   ]
  },
  {
   "cell_type": "markdown",
   "id": "4b91b86e",
   "metadata": {},
   "source": [
    "## Remove unrealistic quantities"
   ]
  },
  {
   "cell_type": "code",
   "execution_count": 11,
   "id": "02e477e1",
   "metadata": {},
   "outputs": [],
   "source": [
    "df = df[df['Quantity'] > 0]"
   ]
  },
  {
   "cell_type": "code",
   "execution_count": 12,
   "id": "832ded27",
   "metadata": {},
   "outputs": [
    {
     "data": {
      "text/html": [
       "<div>\n",
       "<style scoped>\n",
       "    .dataframe tbody tr th:only-of-type {\n",
       "        vertical-align: middle;\n",
       "    }\n",
       "\n",
       "    .dataframe tbody tr th {\n",
       "        vertical-align: top;\n",
       "    }\n",
       "\n",
       "    .dataframe thead th {\n",
       "        text-align: right;\n",
       "    }\n",
       "</style>\n",
       "<table border=\"1\" class=\"dataframe\">\n",
       "  <thead>\n",
       "    <tr style=\"text-align: right;\">\n",
       "      <th></th>\n",
       "      <th>Food_ID</th>\n",
       "      <th>Food_Name</th>\n",
       "      <th>Quantity</th>\n",
       "      <th>Expiry_Date</th>\n",
       "      <th>Provider_ID</th>\n",
       "      <th>Provider_Type</th>\n",
       "      <th>Location</th>\n",
       "      <th>Food_Type</th>\n",
       "      <th>Meal_Type</th>\n",
       "    </tr>\n",
       "  </thead>\n",
       "  <tbody>\n",
       "    <tr>\n",
       "      <th>0</th>\n",
       "      <td>1</td>\n",
       "      <td>Bread</td>\n",
       "      <td>43</td>\n",
       "      <td>2025-03-17</td>\n",
       "      <td>110</td>\n",
       "      <td>Grocery Store</td>\n",
       "      <td>South Kellyville</td>\n",
       "      <td>Non-vegetarian</td>\n",
       "      <td>Breakfast</td>\n",
       "    </tr>\n",
       "    <tr>\n",
       "      <th>1</th>\n",
       "      <td>2</td>\n",
       "      <td>Soup</td>\n",
       "      <td>22</td>\n",
       "      <td>2025-03-24</td>\n",
       "      <td>791</td>\n",
       "      <td>Grocery Store</td>\n",
       "      <td>West James</td>\n",
       "      <td>Non-vegetarian</td>\n",
       "      <td>Dinner</td>\n",
       "    </tr>\n",
       "    <tr>\n",
       "      <th>2</th>\n",
       "      <td>3</td>\n",
       "      <td>Fruits</td>\n",
       "      <td>46</td>\n",
       "      <td>2025-03-28</td>\n",
       "      <td>478</td>\n",
       "      <td>Catering Service</td>\n",
       "      <td>Lake Regina</td>\n",
       "      <td>Vegan</td>\n",
       "      <td>Breakfast</td>\n",
       "    </tr>\n",
       "    <tr>\n",
       "      <th>3</th>\n",
       "      <td>4</td>\n",
       "      <td>Fruits</td>\n",
       "      <td>15</td>\n",
       "      <td>2025-03-16</td>\n",
       "      <td>930</td>\n",
       "      <td>Restaurant</td>\n",
       "      <td>Kellytown</td>\n",
       "      <td>Vegan</td>\n",
       "      <td>Lunch</td>\n",
       "    </tr>\n",
       "    <tr>\n",
       "      <th>4</th>\n",
       "      <td>5</td>\n",
       "      <td>Soup</td>\n",
       "      <td>14</td>\n",
       "      <td>2025-03-19</td>\n",
       "      <td>279</td>\n",
       "      <td>Restaurant</td>\n",
       "      <td>Garciaport</td>\n",
       "      <td>Vegan</td>\n",
       "      <td>Dinner</td>\n",
       "    </tr>\n",
       "    <tr>\n",
       "      <th>...</th>\n",
       "      <td>...</td>\n",
       "      <td>...</td>\n",
       "      <td>...</td>\n",
       "      <td>...</td>\n",
       "      <td>...</td>\n",
       "      <td>...</td>\n",
       "      <td>...</td>\n",
       "      <td>...</td>\n",
       "      <td>...</td>\n",
       "    </tr>\n",
       "    <tr>\n",
       "      <th>995</th>\n",
       "      <td>996</td>\n",
       "      <td>Fish</td>\n",
       "      <td>15</td>\n",
       "      <td>2025-03-30</td>\n",
       "      <td>467</td>\n",
       "      <td>Catering Service</td>\n",
       "      <td>Phillipsfort</td>\n",
       "      <td>Vegan</td>\n",
       "      <td>Breakfast</td>\n",
       "    </tr>\n",
       "    <tr>\n",
       "      <th>996</th>\n",
       "      <td>997</td>\n",
       "      <td>Fish</td>\n",
       "      <td>22</td>\n",
       "      <td>2025-03-18</td>\n",
       "      <td>35</td>\n",
       "      <td>Grocery Store</td>\n",
       "      <td>Andersonmouth</td>\n",
       "      <td>Vegetarian</td>\n",
       "      <td>Breakfast</td>\n",
       "    </tr>\n",
       "    <tr>\n",
       "      <th>997</th>\n",
       "      <td>998</td>\n",
       "      <td>Fruits</td>\n",
       "      <td>6</td>\n",
       "      <td>2025-03-22</td>\n",
       "      <td>444</td>\n",
       "      <td>Restaurant</td>\n",
       "      <td>New Billy</td>\n",
       "      <td>Non-vegetarian</td>\n",
       "      <td>Dinner</td>\n",
       "    </tr>\n",
       "    <tr>\n",
       "      <th>998</th>\n",
       "      <td>999</td>\n",
       "      <td>Pasta</td>\n",
       "      <td>15</td>\n",
       "      <td>2025-03-30</td>\n",
       "      <td>702</td>\n",
       "      <td>Supermarket</td>\n",
       "      <td>Lake Mistyton</td>\n",
       "      <td>Non-vegetarian</td>\n",
       "      <td>Lunch</td>\n",
       "    </tr>\n",
       "    <tr>\n",
       "      <th>999</th>\n",
       "      <td>1000</td>\n",
       "      <td>Salad</td>\n",
       "      <td>18</td>\n",
       "      <td>2025-03-19</td>\n",
       "      <td>155</td>\n",
       "      <td>Supermarket</td>\n",
       "      <td>Charlesview</td>\n",
       "      <td>Non-vegetarian</td>\n",
       "      <td>Dinner</td>\n",
       "    </tr>\n",
       "  </tbody>\n",
       "</table>\n",
       "<p>1000 rows × 9 columns</p>\n",
       "</div>"
      ],
      "text/plain": [
       "     Food_ID Food_Name  Quantity Expiry_Date  Provider_ID     Provider_Type  \\\n",
       "0          1     Bread        43  2025-03-17          110     Grocery Store   \n",
       "1          2      Soup        22  2025-03-24          791     Grocery Store   \n",
       "2          3    Fruits        46  2025-03-28          478  Catering Service   \n",
       "3          4    Fruits        15  2025-03-16          930        Restaurant   \n",
       "4          5      Soup        14  2025-03-19          279        Restaurant   \n",
       "..       ...       ...       ...         ...          ...               ...   \n",
       "995      996      Fish        15  2025-03-30          467  Catering Service   \n",
       "996      997      Fish        22  2025-03-18           35     Grocery Store   \n",
       "997      998    Fruits         6  2025-03-22          444        Restaurant   \n",
       "998      999     Pasta        15  2025-03-30          702       Supermarket   \n",
       "999     1000     Salad        18  2025-03-19          155       Supermarket   \n",
       "\n",
       "             Location       Food_Type  Meal_Type  \n",
       "0    South Kellyville  Non-vegetarian  Breakfast  \n",
       "1          West James  Non-vegetarian     Dinner  \n",
       "2         Lake Regina           Vegan  Breakfast  \n",
       "3           Kellytown           Vegan      Lunch  \n",
       "4          Garciaport           Vegan     Dinner  \n",
       "..                ...             ...        ...  \n",
       "995      Phillipsfort           Vegan  Breakfast  \n",
       "996     Andersonmouth      Vegetarian  Breakfast  \n",
       "997         New Billy  Non-vegetarian     Dinner  \n",
       "998     Lake Mistyton  Non-vegetarian      Lunch  \n",
       "999       Charlesview  Non-vegetarian     Dinner  \n",
       "\n",
       "[1000 rows x 9 columns]"
      ]
     },
     "execution_count": 12,
     "metadata": {},
     "output_type": "execute_result"
    }
   ],
   "source": [
    "df"
   ]
  },
  {
   "cell_type": "markdown",
   "id": "5ac44878",
   "metadata": {},
   "source": [
    "# Feature Engineering"
   ]
  },
  {
   "cell_type": "markdown",
   "id": "7a340638",
   "metadata": {},
   "source": [
    "## Days until expiry"
   ]
  },
  {
   "cell_type": "code",
   "execution_count": 13,
   "id": "804bace5",
   "metadata": {},
   "outputs": [],
   "source": [
    "today = pd.Timestamp.today().normalize()\n",
    "df['Days_To_Expiry'] = (df['Expiry_Date'] - today).dt.days"
   ]
  },
  {
   "cell_type": "markdown",
   "id": "bec5861d",
   "metadata": {},
   "source": [
    "## Expired flag"
   ]
  },
  {
   "cell_type": "code",
   "execution_count": 14,
   "id": "5b749f88",
   "metadata": {},
   "outputs": [],
   "source": [
    "df['Is_Expired'] = df['Days_To_Expiry'] < 0"
   ]
  },
  {
   "cell_type": "markdown",
   "id": "0d068d22",
   "metadata": {},
   "source": [
    "## Food category encoding (optional for ML later)"
   ]
  },
  {
   "cell_type": "code",
   "execution_count": 15,
   "id": "eacd2b28",
   "metadata": {},
   "outputs": [],
   "source": [
    "df['Meal_Type_Code'] = df['Meal_Type'].astype('category').cat.codes\n",
    "df['Food_Type_Code'] = df['Food_Type'].astype('category').cat.codes"
   ]
  },
  {
   "cell_type": "markdown",
   "id": "8f00f789",
   "metadata": {},
   "source": [
    "# EDA - Summaries"
   ]
  },
  {
   "cell_type": "code",
   "execution_count": 17,
   "id": "827f0db5",
   "metadata": {},
   "outputs": [
    {
     "name": "stdout",
     "output_type": "stream",
     "text": [
      "\n",
      "--- Dataset Summary ---\n",
      "<class 'pandas.core.frame.DataFrame'>\n",
      "RangeIndex: 1000 entries, 0 to 999\n",
      "Data columns (total 13 columns):\n",
      " #   Column          Non-Null Count  Dtype         \n",
      "---  ------          --------------  -----         \n",
      " 0   Food_ID         1000 non-null   int64         \n",
      " 1   Food_Name       1000 non-null   object        \n",
      " 2   Quantity        1000 non-null   int64         \n",
      " 3   Expiry_Date     1000 non-null   datetime64[ns]\n",
      " 4   Provider_ID     1000 non-null   int64         \n",
      " 5   Provider_Type   1000 non-null   object        \n",
      " 6   Location        1000 non-null   object        \n",
      " 7   Food_Type       1000 non-null   object        \n",
      " 8   Meal_Type       1000 non-null   object        \n",
      " 9   Days_To_Expiry  1000 non-null   int64         \n",
      " 10  Is_Expired      1000 non-null   bool          \n",
      " 11  Meal_Type_Code  1000 non-null   int8          \n",
      " 12  Food_Type_Code  1000 non-null   int8          \n",
      "dtypes: bool(1), datetime64[ns](1), int64(4), int8(2), object(5)\n",
      "memory usage: 81.2+ KB\n",
      "None\n"
     ]
    }
   ],
   "source": [
    "print(\"\\n--- Dataset Summary ---\")\n",
    "print(df.info())"
   ]
  },
  {
   "cell_type": "code",
   "execution_count": 18,
   "id": "7721604f",
   "metadata": {},
   "outputs": [
    {
     "name": "stdout",
     "output_type": "stream",
     "text": [
      "\n",
      "--- Descriptive Stats ---\n",
      "            Food_ID Food_Name     Quantity                 Expiry_Date  \\\n",
      "count   1000.000000      1000  1000.000000                        1000   \n",
      "unique          NaN        10          NaN                         NaN   \n",
      "top             NaN      Rice          NaN                         NaN   \n",
      "freq            NaN       114          NaN                         NaN   \n",
      "mean     500.500000       NaN    25.794000  2025-03-23 00:24:28.800000   \n",
      "min        1.000000       NaN     1.000000         2025-03-16 00:00:00   \n",
      "25%      250.750000       NaN    13.000000         2025-03-19 00:00:00   \n",
      "50%      500.500000       NaN    26.000000         2025-03-23 00:00:00   \n",
      "75%      750.250000       NaN    39.000000         2025-03-27 00:00:00   \n",
      "max     1000.000000       NaN    50.000000         2025-03-30 00:00:00   \n",
      "std      288.819436       NaN    14.609894                         NaN   \n",
      "\n",
      "        Provider_ID Provider_Type   Location   Food_Type  Meal_Type  \\\n",
      "count      1000.000          1000       1000        1000       1000   \n",
      "unique          NaN             4        624           3          4   \n",
      "top             NaN   Supermarket  New Carol  Vegetarian  Breakfast   \n",
      "freq            NaN           267          6         336        254   \n",
      "mean        497.497           NaN        NaN         NaN        NaN   \n",
      "min           1.000           NaN        NaN         NaN        NaN   \n",
      "25%         241.000           NaN        NaN         NaN        NaN   \n",
      "50%         498.500           NaN        NaN         NaN        NaN   \n",
      "75%         752.000           NaN        NaN         NaN        NaN   \n",
      "max        1000.000           NaN        NaN         NaN        NaN   \n",
      "std         291.681           NaN        NaN         NaN        NaN   \n",
      "\n",
      "        Days_To_Expiry Is_Expired  Meal_Type_Code  Food_Type_Code  \n",
      "count      1000.000000       1000      1000.00000     1000.000000  \n",
      "unique             NaN          1             NaN             NaN  \n",
      "top                NaN       True             NaN             NaN  \n",
      "freq               NaN       1000             NaN             NaN  \n",
      "mean       -143.983000        NaN         1.50000        1.006000  \n",
      "min        -151.000000        NaN         0.00000        0.000000  \n",
      "25%        -148.000000        NaN         0.00000        0.000000  \n",
      "50%        -144.000000        NaN         2.00000        1.000000  \n",
      "75%        -140.000000        NaN         3.00000        2.000000  \n",
      "max        -137.000000        NaN         3.00000        2.000000  \n",
      "std           4.329602        NaN         1.12484        0.816475  \n"
     ]
    }
   ],
   "source": [
    "print(\"\\n--- Descriptive Stats ---\")\n",
    "print(df.describe(include='all'))"
   ]
  },
  {
   "cell_type": "code",
   "execution_count": 19,
   "id": "2b0eb701",
   "metadata": {},
   "outputs": [
    {
     "name": "stdout",
     "output_type": "stream",
     "text": [
      "\n",
      "Top Provider Types:\n",
      "Provider_Type\n",
      "Supermarket         267\n",
      "Restaurant          258\n",
      "Grocery Store       243\n",
      "Catering Service    232\n",
      "Name: count, dtype: int64\n"
     ]
    }
   ],
   "source": [
    "print(\"\\nTop Provider Types:\")\n",
    "print(df['Provider_Type'].value_counts())"
   ]
  },
  {
   "cell_type": "code",
   "execution_count": 20,
   "id": "0b03736a",
   "metadata": {},
   "outputs": [
    {
     "name": "stdout",
     "output_type": "stream",
     "text": [
      "\n",
      "Food Type Distribution:\n",
      "Food_Type\n",
      "Vegetarian        336\n",
      "Vegan             334\n",
      "Non-vegetarian    330\n",
      "Name: count, dtype: int64\n"
     ]
    }
   ],
   "source": [
    "print(\"\\nFood Type Distribution:\")\n",
    "print(df['Food_Type'].value_counts())"
   ]
  },
  {
   "cell_type": "markdown",
   "id": "1f5618ea",
   "metadata": {},
   "source": [
    "# EDA Visualization"
   ]
  },
  {
   "cell_type": "code",
   "execution_count": 21,
   "id": "ccdf9b82",
   "metadata": {},
   "outputs": [],
   "source": [
    "sns.set(style=\"whitegrid\")"
   ]
  },
  {
   "cell_type": "markdown",
   "id": "7378aa95",
   "metadata": {},
   "source": [
    "## Quantity distribution"
   ]
  },
  {
   "cell_type": "code",
   "execution_count": 22,
   "id": "bf9b54fb",
   "metadata": {},
   "outputs": [
    {
     "data": {
      "image/png": "[encoded data removed]",
      "text/plain": [
       "<Figure size 600x400 with 1 Axes>"
      ]
     },
     "metadata": {},
     "output_type": "display_data"
    },
    {
     "data": {
      "text/plain": [
       "<Figure size 640x480 with 0 Axes>"
      ]
     },
     "metadata": {},
     "output_type": "display_data"
    }
   ],
   "source": [
    "plt.figure(figsize=(6,4))\n",
    "sns.histplot(df['Quantity'], bins=10, kde=True)\n",
    "plt.title(\"Distribution of Food Quantities\")\n",
    "plt.xlabel(\"Quantity\")\n",
    "plt.ylabel(\"Frequency\")\n",
    "plt.show()\n",
    "plt.savefig('../reports/Visualizations/Food_Listing/Distribution of Food Quantities.png')"
   ]
  },
  {
   "cell_type": "markdown",
   "id": "f50371ee",
   "metadata": {},
   "source": [
    "## Provider Type count"
   ]
  },
  {
   "cell_type": "code",
   "execution_count": 23,
   "id": "c8f16f93",
   "metadata": {},
   "outputs": [
    {
     "data": {
      "image/png": "[encoded data removed]",
      "text/plain": [
       "<Figure size 700x400 with 1 Axes>"
      ]
     },
     "metadata": {},
     "output_type": "display_data"
    },
    {
     "data": {
      "text/plain": [
       "<Figure size 640x480 with 0 Axes>"
      ]
     },
     "metadata": {},
     "output_type": "display_data"
    }
   ],
   "source": [
    "\n",
    "plt.figure(figsize=(7,4))\n",
    "sns.countplot(data=df, x='Provider_Type', order=df['Provider_Type'].value_counts().index)\n",
    "plt.title(\"Provider Type Distribution\")\n",
    "plt.xticks(rotation=45)\n",
    "plt.show()\n",
    "plt.savefig('../reports/Visualizations/Food_Listing/Provider Type Distribution.png')"
   ]
  },
  {
   "cell_type": "markdown",
   "id": "f9b04049",
   "metadata": {},
   "source": [
    "## Meal Type vs Food Type"
   ]
  },
  {
   "cell_type": "code",
   "execution_count": 24,
   "id": "bb60dd80",
   "metadata": {},
   "outputs": [
    {
     "data": {
      "image/png": "[encoded data removed]",
      "text/plain": [
       "<Figure size 700x500 with 1 Axes>"
      ]
     },
     "metadata": {},
     "output_type": "display_data"
    },
    {
     "data": {
      "text/plain": [
       "<Figure size 640x480 with 0 Axes>"
      ]
     },
     "metadata": {},
     "output_type": "display_data"
    }
   ],
   "source": [
    "plt.figure(figsize=(7,5))\n",
    "sns.countplot(data=df, x='Meal_Type', hue='Food_Type')\n",
    "plt.title(\"Meal Type by Food Type\")\n",
    "plt.xticks(rotation=45)\n",
    "plt.show()\n",
    "plt.savefig('../reports/Visualizations/Food_Listing/Meal Type by Food Type.png')"
   ]
  },
  {
   "cell_type": "markdown",
   "id": "a0beb477",
   "metadata": {},
   "source": [
    "## Days to Expiry"
   ]
  },
  {
   "cell_type": "code",
   "execution_count": 25,
   "id": "c5cac8da",
   "metadata": {},
   "outputs": [
    {
     "data": {
      "image/png": "[encoded data removed]",
      "text/plain": [
       "<Figure size 600x400 with 1 Axes>"
      ]
     },
     "metadata": {},
     "output_type": "display_data"
    },
    {
     "data": {
      "text/plain": [
       "<Figure size 640x480 with 0 Axes>"
      ]
     },
     "metadata": {},
     "output_type": "display_data"
    }
   ],
   "source": [
    "plt.figure(figsize=(6,4))\n",
    "sns.histplot(df['Days_To_Expiry'], bins=10, kde=False)\n",
    "plt.title(\"Days Until Expiry Distribution\")\n",
    "plt.xlabel(\"Days to Expiry\")\n",
    "plt.ylabel(\"Number of Listings\")\n",
    "plt.show()\n",
    "plt.savefig('../reports/Visualizations/Food_Listing/Days Until Expiry Distribution.png')"
   ]
  },
  {
   "cell_type": "markdown",
   "id": "960bb6c6",
   "metadata": {},
   "source": [
    "# Save cleaned data"
   ]
  },
  {
   "cell_type": "code",
   "execution_count": 26,
   "id": "9bb4a664",
   "metadata": {},
   "outputs": [
    {
     "name": "stdout",
     "output_type": "stream",
     "text": [
      "\n",
      "Cleaned and engineered dataset saved as 'food_listings_data_clean.csv'\n"
     ]
    }
   ],
   "source": [
    "\n",
    "df.to_csv(\"../data/processed/food_listings_data_clean.csv\", index=False)\n",
    "print(\"\\nCleaned and engineered dataset saved as 'food_listings_data_clean.csv'\")"
   ]
  }
 ],
 "metadata": {
  "kernelspec": {
   "display_name": "Python 3",
   "language": "python",
   "name": "python3"
  },
  "language_info": {
   "codemirror_mode": {
    "name": "ipython",
    "version": 3
   },
   "file_extension": ".py",
   "mimetype": "text/x-python",
   "name": "python",
   "nbconvert_exporter": "python",
   "pygments_lexer": "ipython3",
   "version": "3.12.11"
  }
 },
 "nbformat": 4,
 "nbformat_minor": 5
}
