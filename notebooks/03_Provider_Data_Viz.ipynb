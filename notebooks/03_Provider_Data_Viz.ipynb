{
 "cells": [
  {
   "cell_type": "markdown",
   "id": "353b97d2",
   "metadata": {},
   "source": [
    "# Data Cleaning & Preprocessing for Providers Data"
   ]
  },
  {
   "cell_type": "code",
   "execution_count": 1,
   "id": "f883c214",
   "metadata": {},
   "outputs": [],
   "source": [
    "import pandas as pd\n",
    "import matplotlib.pyplot as plt\n",
    "import seaborn as sns"
   ]
  },
  {
   "cell_type": "markdown",
   "id": "4d44b8bd",
   "metadata": {},
   "source": [
    "## Load Dataset"
   ]
  },
  {
   "cell_type": "code",
   "execution_count": 2,
   "id": "c7e17644",
   "metadata": {},
   "outputs": [],
   "source": [
    "df = pd.read_csv('../data/raw/providers_data.csv')"
   ]
  },
  {
   "cell_type": "markdown",
   "id": "353e956e",
   "metadata": {},
   "source": [
    "## Remove extra spaces"
   ]
  },
  {
   "cell_type": "code",
   "execution_count": 3,
   "id": "f177d76f",
   "metadata": {},
   "outputs": [],
   "source": [
    "df.columns = df.columns.str.strip()"
   ]
  },
  {
   "cell_type": "markdown",
   "id": "d7659ee1",
   "metadata": {},
   "source": [
    "## Strip spaces in string columns"
   ]
  },
  {
   "cell_type": "code",
   "execution_count": 4,
   "id": "a853793e",
   "metadata": {},
   "outputs": [],
   "source": [
    "str_cols = df.select_dtypes(include='object').columns\n",
    "df[str_cols] = df[str_cols].apply(lambda col: col.str.strip())"
   ]
  },
  {
   "cell_type": "markdown",
   "id": "051444d6",
   "metadata": {},
   "source": [
    "## Standardize text casing"
   ]
  },
  {
   "cell_type": "code",
   "execution_count": 5,
   "id": "632d04e7",
   "metadata": {},
   "outputs": [],
   "source": [
    "df['Name'] = df['Name'].str.title()\n",
    "df['Type'] = df['Type'].str.title()\n",
    "df['City'] = df['City'].str.title()"
   ]
  },
  {
   "cell_type": "markdown",
   "id": "d3a1ab27",
   "metadata": {},
   "source": [
    "## Convert Provider_ID to int"
   ]
  },
  {
   "cell_type": "code",
   "execution_count": 6,
   "id": "c0d148de",
   "metadata": {},
   "outputs": [],
   "source": [
    "df['Provider_ID'] = pd.to_numeric(df['Provider_ID'], errors='coerce').astype('Int64')"
   ]
  },
  {
   "cell_type": "markdown",
   "id": "00ea2cd1",
   "metadata": {},
   "source": [
    "## Drop rows missing essential fields"
   ]
  },
  {
   "cell_type": "code",
   "execution_count": 7,
   "id": "9fcb4b7a",
   "metadata": {},
   "outputs": [],
   "source": [
    "df = df.dropna(subset=['Provider_ID', 'Name', 'Type', 'City', 'Contact'])"
   ]
  },
  {
   "cell_type": "markdown",
   "id": "84d269df",
   "metadata": {},
   "source": [
    "## Remove duplicates based on Provider_ID"
   ]
  },
  {
   "cell_type": "code",
   "execution_count": 8,
   "id": "9cb294bf",
   "metadata": {},
   "outputs": [],
   "source": [
    "df = df.drop_duplicates(subset=['Provider_ID'])"
   ]
  },
  {
   "cell_type": "markdown",
   "id": "d15476d8",
   "metadata": {},
   "source": [
    "## Standardize phone numbers"
   ]
  },
  {
   "cell_type": "code",
   "execution_count": 9,
   "id": "f9f24a7b",
   "metadata": {},
   "outputs": [],
   "source": [
    "df['Contact'] = df['Contact'].str.replace(r'\\s+', '', regex=True)\n",
    "df['Contact'] = df['Contact'].str.replace(r'[^\\d\\+\\-x]', '', regex=True)"
   ]
  },
  {
   "cell_type": "markdown",
   "id": "0bd6e491",
   "metadata": {},
   "source": [
    "# Feature Engineering"
   ]
  },
  {
   "cell_type": "markdown",
   "id": "30d4ffbd",
   "metadata": {},
   "source": [
    "## Provider type code"
   ]
  },
  {
   "cell_type": "code",
   "execution_count": 10,
   "id": "0906fe5c",
   "metadata": {},
   "outputs": [],
   "source": [
    "df['Type_Code'] = df['Type'].astype('category').cat.codes"
   ]
  },
  {
   "cell_type": "markdown",
   "id": "6413e877",
   "metadata": {},
   "source": [
    "## City length metric "
   ]
  },
  {
   "cell_type": "code",
   "execution_count": 11,
   "id": "2ce13fbc",
   "metadata": {},
   "outputs": [],
   "source": [
    "df['City_Name_Length'] = df['City'].apply(len)"
   ]
  },
  {
   "cell_type": "markdown",
   "id": "05632ad8",
   "metadata": {},
   "source": [
    "# Address length metric"
   ]
  },
  {
   "cell_type": "code",
   "execution_count": 12,
   "id": "eff1d4ab",
   "metadata": {},
   "outputs": [],
   "source": [
    "df['Address_Length'] = df['Address'].apply(len)"
   ]
  },
  {
   "cell_type": "markdown",
   "id": "f7a53896",
   "metadata": {},
   "source": [
    "## EDA Summaries"
   ]
  },
  {
   "cell_type": "code",
   "execution_count": 13,
   "id": "7944bb6a",
   "metadata": {},
   "outputs": [
    {
     "name": "stdout",
     "output_type": "stream",
     "text": [
      "\n",
      "--- Dataset Info ---\n",
      "<class 'pandas.core.frame.DataFrame'>\n",
      "RangeIndex: 1000 entries, 0 to 999\n",
      "Data columns (total 9 columns):\n",
      " #   Column            Non-Null Count  Dtype \n",
      "---  ------            --------------  ----- \n",
      " 0   Provider_ID       1000 non-null   Int64 \n",
      " 1   Name              1000 non-null   object\n",
      " 2   Type              1000 non-null   object\n",
      " 3   Address           1000 non-null   object\n",
      " 4   City              1000 non-null   object\n",
      " 5   Contact           1000 non-null   object\n",
      " 6   Type_Code         1000 non-null   int8  \n",
      " 7   City_Name_Length  1000 non-null   int64 \n",
      " 8   Address_Length    1000 non-null   int64 \n",
      "dtypes: Int64(1), int64(2), int8(1), object(5)\n",
      "memory usage: 64.6+ KB\n",
      "None\n"
     ]
    }
   ],
   "source": [
    "print(\"\\n--- Dataset Info ---\")\n",
    "print(df.info())"
   ]
  },
  {
   "cell_type": "code",
   "execution_count": 14,
   "id": "0e58c31c",
   "metadata": {},
   "outputs": [
    {
     "name": "stdout",
     "output_type": "stream",
     "text": [
      "\n",
      "--- Provider Type Counts ---\n",
      "Type\n",
      "Supermarket         262\n",
      "Grocery Store       256\n",
      "Restaurant          246\n",
      "Catering Service    236\n",
      "Name: count, dtype: int64\n"
     ]
    }
   ],
   "source": [
    "print(\"\\n--- Provider Type Counts ---\")\n",
    "print(df['Type'].value_counts())"
   ]
  },
  {
   "cell_type": "code",
   "execution_count": 15,
   "id": "c2b25efc",
   "metadata": {},
   "outputs": [
    {
     "name": "stdout",
     "output_type": "stream",
     "text": [
      "\n",
      "--- Top Cities ---\n",
      "City\n",
      "South Christopherborough    3\n",
      "New Carol                   3\n",
      "Lake Benjamin               2\n",
      "South Thomas                2\n",
      "Bradleyport                 2\n",
      "                           ..\n",
      "Manningshire                1\n",
      "East Rossside               1\n",
      "Joshuastad                  1\n",
      "Stevenchester               1\n",
      "Brendantown                 1\n",
      "Name: count, Length: 963, dtype: int64\n"
     ]
    }
   ],
   "source": [
    "print(\"\\n--- Top Cities ---\")\n",
    "print(df['City'].value_counts())"
   ]
  },
  {
   "cell_type": "markdown",
   "id": "827dcaaa",
   "metadata": {},
   "source": [
    "# Visualizations"
   ]
  },
  {
   "cell_type": "code",
   "execution_count": 16,
   "id": "2bb81bd1",
   "metadata": {},
   "outputs": [],
   "source": [
    "sns.set(style=\"whitegrid\")"
   ]
  },
  {
   "cell_type": "markdown",
   "id": "57d84baf",
   "metadata": {},
   "source": [
    "## Provider type distribution"
   ]
  },
  {
   "cell_type": "code",
   "execution_count": 23,
   "id": "87d086f7",
   "metadata": {},
   "outputs": [
    {
     "data": {
      "image/png": "[encoded data removed]",
      "text/plain": [
       "<Figure size 600x400 with 1 Axes>"
      ]
     },
     "metadata": {},
     "output_type": "display_data"
    }
   ],
   "source": [
    "\n",
    "plt.figure(figsize=(6,4))\n",
    "sns.countplot(data=df, x='Type', order=df['Type'].value_counts().index,hue = 'Type',legend = False, palette='Set2')\n",
    "plt.title(\"Provider Type Distribution\")\n",
    "plt.xlabel(\"Provider Type\")\n",
    "plt.ylabel(\"Number of Providers\")\n",
    "plt.xticks(rotation=30)\n",
    "plt.tight_layout()\n",
    "plt.savefig(\"../reports/Visualizations/Providers_Data/Provider Type Distribution.png\")\n",
    "plt.show()"
   ]
  },
  {
   "cell_type": "markdown",
   "id": "1327bce7",
   "metadata": {},
   "source": [
    "## Address length distribution"
   ]
  },
  {
   "cell_type": "code",
   "execution_count": 24,
   "id": "7ac16028",
   "metadata": {},
   "outputs": [
    {
     "data": {
      "image/png": "[encoded data removed]",
      "text/plain": [
       "<Figure size 600x400 with 1 Axes>"
      ]
     },
     "metadata": {},
     "output_type": "display_data"
    }
   ],
   "source": [
    "plt.figure(figsize=(6,4))\n",
    "sns.histplot(df['Address_Length'], bins=10, kde=False, color='skyblue')\n",
    "plt.title(\"Address Length Distribution\")\n",
    "plt.xlabel(\"Address Length (characters)\")\n",
    "plt.ylabel(\"Count\")\n",
    "plt.tight_layout()\n",
    "plt.savefig(\"../reports/Visualizations/Providers_Data/Address Length Distribution.png\")\n",
    "plt.show()"
   ]
  },
  {
   "cell_type": "markdown",
   "id": "29e61e9c",
   "metadata": {},
   "source": [
    "# Save cleaned dataset"
   ]
  },
  {
   "cell_type": "code",
   "execution_count": 26,
   "id": "0a237862",
   "metadata": {},
   "outputs": [
    {
     "name": "stdout",
     "output_type": "stream",
     "text": [
      "\n",
      "Cleaned providers dataset saved as 'providers_data_clean.csv'\n"
     ]
    }
   ],
   "source": [
    "df.to_csv(\"../data/processed/providers_data_clean.csv\", index=False)\n",
    "print(\"\\nCleaned providers dataset saved as 'providers_data_clean.csv'\")"
   ]
  }
 ],
 "metadata": {
  "kernelspec": {
   "display_name": "Python 3",
   "language": "python",
   "name": "python3"
  },
  "language_info": {
   "codemirror_mode": {
    "name": "ipython",
    "version": 3
   },
   "file_extension": ".py",
   "mimetype": "text/x-python",
   "name": "python",
   "nbconvert_exporter": "python",
   "pygments_lexer": "ipython3",
   "version": "3.12.11"
  }
 },
 "nbformat": 4,
 "nbformat_minor": 5
}
